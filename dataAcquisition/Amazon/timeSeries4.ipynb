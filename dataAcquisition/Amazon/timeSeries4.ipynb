{
 "cells": [
  {
   "cell_type": "code",
   "execution_count": null,
   "metadata": {},
   "outputs": [],
   "source": [
    "# Import Required Libraries\n",
    "import pandas as pd\n",
    "import matplotlib.pyplot as plt"
   ]
  },
  {
   "cell_type": "code",
   "execution_count": null,
   "metadata": {},
   "outputs": [],
   "source": [
    "## PREPROCESSING\n",
    "# Load DataFrame\n",
    "df = pd.read_excel('./AmazonSaleReport.xlsx') \n",
    "df_timeseries = df[['Date', 'Amount']] \n",
    "\n",
    "# Transform date into datetime object\n",
    "df_timeseries['Date'] = pd.to_datetime(df_timeseries['Date'])\n",
    "\n",
    "# Set Date as Index\n",
    "df_timeseries.set_index('Date', inplace=True)\n",
    "df_timeseries.head()  # Display the first few rows of the dataframe with the new index\n",
    "df.sort_index(inplace=True) \n",
    "\n",
    "# Resample DataFrame, I am applying a rolling window of 1 day, smoothing the data\n",
    "df_resampled = df_timeseries.resample('D').sum()  # Resample by day and sum the 'Amount' column\n",
    "df_resampled.head()  # Display the first few rows of the resampled dataframe\n",
    "\n",
    "# Plot the resampled data\n",
    "plt.figure(figsize=(10, 5))\n",
    "plt.plot(df_resampled.index, df_resampled['Amount'], marker='o')\n",
    "plt.title('Daily Amount')\n",
    "plt.xlabel('Date')\n",
    "plt.ylabel('Amount')\n",
    "plt.grid(True)\n",
    "plt.show()"
   ]
  },
  {
   "cell_type": "code",
   "execution_count": null,
   "metadata": {},
   "outputs": [],
   "source": [
    "# possibility to implement various rolling windows and then compare the results"
   ]
  },
  {
   "cell_type": "code",
   "execution_count": null,
   "metadata": {},
   "outputs": [],
   "source": [
    "# Split the data into training and testing sets\n",
    "# 80% for training, 20% for testing\n",
    "# We do not shuffle the data because the order is important in time series\n",
    "train_size = int(len(df_resampled) * 0.8)  # 80% for training, 20% for testing\n",
    "train, test = df_resampled.iloc[:train_size], df_resampled.iloc[train_size:]\n",
    "\n",
    "# Plot the train vs the test data\n",
    "plt.figure(figsize=(10, 5))\n",
    "plt.plot(train.index, train['Amount'], label='Train')\n",
    "plt.plot(test.index, test['Amount'], label='Test')\n",
    "plt.title('Daily Amount')\n",
    "plt.xlabel('Date')\n",
    "plt.ylabel('Amount')\n",
    "plt.grid(True)\n",
    "plt.legend()\n",
    "plt.show()"
   ]
  },
  {
   "cell_type": "markdown",
   "metadata": {},
   "source": [
    "# CHECKING STATIONARITY"
   ]
  },
  {
   "cell_type": "code",
   "execution_count": null,
   "metadata": {},
   "outputs": [],
   "source": [
    "# ADF TEST"
   ]
  },
  {
   "cell_type": "code",
   "execution_count": null,
   "metadata": {},
   "outputs": [],
   "source": [
    "# KPSS TEST"
   ]
  },
  {
   "cell_type": "code",
   "execution_count": null,
   "metadata": {},
   "outputs": [],
   "source": [
    "# Check for normality"
   ]
  },
  {
   "cell_type": "markdown",
   "metadata": {},
   "source": [
    "# CHECKING CORRELATION"
   ]
  },
  {
   "cell_type": "code",
   "execution_count": null,
   "metadata": {},
   "outputs": [],
   "source": [
    "# ACF plot"
   ]
  },
  {
   "cell_type": "code",
   "execution_count": null,
   "metadata": {},
   "outputs": [],
   "source": [
    "# PACF plot"
   ]
  }
 ],
 "metadata": {
  "language_info": {
   "name": "python"
  }
 },
 "nbformat": 4,
 "nbformat_minor": 2
}
