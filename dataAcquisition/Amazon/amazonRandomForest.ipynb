{
 "cells": [
  {
   "cell_type": "code",
   "execution_count": 2,
   "metadata": {},
   "outputs": [],
   "source": [
    "import pandas as pd \n",
    "from sklearn.model_selection import train_test_split\n",
    "\n",
    "df = pd.read_excel('./AmazonSaleReport.xlsx', parse_dates=['Date'], index_col='Date')\n",
    "df = df.sort_index()\n",
    "\n",
    "# A little bit of data cleaning\n",
    "df.drop(['Order ID', 'Status', 'Unnamed: 22', 'SKU', 'ASIN', 'Courier Status', 'ship-city', 'ship-state', 'ship-postal-code', 'ship-country', 'Style'], axis=1, inplace=True)\n",
    "\n",
    "# Getting dummies and changing column names\n",
    "# Fullfillment\n",
    "df['fulfilled-by'] = df['fulfilled-by'].apply(lambda x: True if x == 'Easy Ship' else False)\n",
    "df.rename(columns={'fulfilled-by': 'fulfilledEasyShip'}, inplace=True)\n",
    "\n",
    "# Fullfillment again?\n",
    "df['Fulfilment'] = df['Fulfilment'].apply(lambda x: True if x == 'Amazon' else False)\n",
    "df.rename(columns={'Fulfilment': 'FBA'}, inplace=True)\n",
    "\n",
    "# Sales channel\n",
    "df['Sales Channel '] = df['Sales Channel '].apply(lambda x: True if x == 'Amazon.in' else False)\n",
    "df.rename(columns={'Sales Channel ': 'soldAmazonIn'}, inplace=True)\n",
    "\n",
    "# Currency\n",
    "df['currency'] = df['currency'].apply(lambda x: True if x == 'INR' else False)\n",
    "df.rename(columns={'currency': 'paidINR'}, inplace=True)\n",
    "\n",
    "# Ship-Service-Level\n",
    "df['ship-service-level'] = df['ship-service-level'].apply(lambda x: True if x == 'Standard' else False)\n",
    "df.rename(columns={'ship-service-level': 'standardShipping'}, inplace=True)\n",
    "\n",
    "# Check if it has promotions, convert to boolean\n",
    "df['promotion-ids'] = df['promotion-ids'].apply(lambda x: False if pd.isna(x) else True)\n",
    "\n",
    "# Size\n",
    "df_dummies = pd.get_dummies(df, columns=['Size'])\n",
    "\n",
    "# Categories\n",
    "categories_to_delete = ['Ethnic Dress', 'Blouse', 'Bottom', 'Saree', 'Dupatta']\n",
    "df_dummies = df_dummies[~df_dummies['Category'].isin(categories_to_delete)]\n",
    "df_dummies = pd.get_dummies(df_dummies, columns=['Category'])\n",
    "\n",
    "# Drop NaNs\n",
    "df_dummies.dropna(inplace=True)\n",
    "df_dummies.head()\n",
    "\n",
    "X = df_dummies.drop(columns='Amount')\n",
    "Y = df_dummies['Amount']\n",
    "\n",
    "X_train, X_test, Y_train, Y_test = train_test_split(X, Y, test_size=0.2, shuffle=False)"
   ]
  },
  {
   "cell_type": "code",
   "execution_count": 4,
   "metadata": {},
   "outputs": [
    {
     "name": "stdout",
     "output_type": "stream",
     "text": [
      "Best Mean Squared Error: 47007.26854356343\n",
      "Best Parameters: {'max_depth': 10, 'min_samples_split': 10, 'n_estimators': 50}\n"
     ]
    }
   ],
   "source": [
    "from sklearn.model_selection import GridSearchCV, TimeSeriesSplit\n",
    "from sklearn.metrics import mean_squared_error\n",
    "from sklearn.ensemble import RandomForestRegressor\n",
    "\n",
    "# Define the parameter grid\n",
    "param_grid = {\n",
    "    'n_estimators': [50, 100, 200],\n",
    "    'max_depth': [10, 20, None],\n",
    "    'min_samples_split': [2, 5, 10]\n",
    "}\n",
    "\n",
    "# Create a TimeSeriesSplit object\n",
    "tscv = TimeSeriesSplit(n_splits=5)\n",
    "\n",
    "# Initialize the RandomForestRegressor model\n",
    "rf_model = RandomForestRegressor(random_state=42)\n",
    "\n",
    "# Create the GridSearchCV object\n",
    "grid_search = GridSearchCV(estimator=rf_model, param_grid=param_grid, cv=tscv, scoring='neg_mean_squared_error', n_jobs=-1)\n",
    "\n",
    "# Fit the grid search to the data\n",
    "grid_search.fit(X_train, Y_train)\n",
    "\n",
    "# Get the best model\n",
    "best_rf_model = grid_search.best_estimator_\n",
    "\n",
    "# Make predictions with the best model\n",
    "Y_pred_best = best_rf_model.predict(X_test)\n",
    "\n",
    "# Evaluate the best model\n",
    "mse_best = mean_squared_error(Y_test, Y_pred_best)\n",
    "print(f'Best Mean Squared Error: {mse_best}')\n",
    "print(f'Best Parameters: {grid_search.best_params_}')"
   ]
  },
  {
   "cell_type": "code",
   "execution_count": 6,
   "metadata": {},
   "outputs": [
    {
     "name": "stdout",
     "output_type": "stream",
     "text": [
      "R-squared: 0.4395143852201796\n",
      "Mean Absolute Error: 156.01009353015866\n",
      "Root Mean Squared Error: 216.81159688439968\n"
     ]
    }
   ],
   "source": [
    "from sklearn.metrics import r2_score, mean_absolute_error, root_mean_squared_error\n",
    "\n",
    "# Calculate R-squared\n",
    "r2 = r2_score(Y_test, Y_pred_best)\n",
    "\n",
    "# Calculate Mean Absolute Error\n",
    "mae = mean_absolute_error(Y_test, Y_pred_best)\n",
    "\n",
    "# Calculate Root Mean Squared Error\n",
    "rmse = root_mean_squared_error(Y_test, Y_pred_best)\n",
    "\n",
    "print(f'R-squared: {r2}')\n",
    "print(f'Mean Absolute Error: {mae}')\n",
    "print(f'Root Mean Squared Error: {rmse}')"
   ]
  }
 ],
 "metadata": {
  "kernelspec": {
   "display_name": ".venv",
   "language": "python",
   "name": "python3"
  },
  "language_info": {
   "codemirror_mode": {
    "name": "ipython",
    "version": 3
   },
   "file_extension": ".py",
   "mimetype": "text/x-python",
   "name": "python",
   "nbconvert_exporter": "python",
   "pygments_lexer": "ipython3",
   "version": "3.11.-1"
  }
 },
 "nbformat": 4,
 "nbformat_minor": 2
}
